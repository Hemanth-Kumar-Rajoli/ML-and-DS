{
 "cells": [
  {
   "cell_type": "markdown",
   "id": "209cafa7",
   "metadata": {},
   "source": [
    "# Data-points -> records\n",
    "# variables -> headings of the column\n",
    "# Label -> output"
   ]
  },
  {
   "cell_type": "code",
   "execution_count": null,
   "id": "a7b4e82f",
   "metadata": {},
   "outputs": [],
   "source": []
  }
 ],
 "metadata": {
  "kernelspec": {
   "display_name": "Python 3 (ipykernel)",
   "language": "python",
   "name": "python3"
  },
  "language_info": {
   "codemirror_mode": {
    "name": "ipython",
    "version": 3
   },
   "file_extension": ".py",
   "mimetype": "text/x-python",
   "name": "python",
   "nbconvert_exporter": "python",
   "pygments_lexer": "ipython3",
   "version": "3.9.13"
  }
 },
 "nbformat": 4,
 "nbformat_minor": 5
}
